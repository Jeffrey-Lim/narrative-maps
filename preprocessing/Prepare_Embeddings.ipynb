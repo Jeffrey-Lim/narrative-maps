{
 "cells": [
  {
   "cell_type": "markdown",
   "metadata": {},
   "source": [
    "## Preparing Embeddings for Narrative Maps"
   ]
  },
  {
   "cell_type": "code",
   "execution_count": 1,
   "metadata": {},
   "outputs": [],
   "source": [
    "import pandas as pd\n",
    "from ftfy import fix_encoding\n",
    "from datetime import date, datetime, timezone\n",
    "from sentence_transformers import SentenceTransformer\n",
    "import numpy as np\n",
    "bert_model = SentenceTransformer('all-MiniLM-L6-v2')"
   ]
  },
  {
   "cell_type": "code",
   "execution_count": null,
   "metadata": {},
   "outputs": [
    {
     "name": "stdout",
     "output_type": "stream",
     "text": [
      "Embedding...\n"
     ]
    }
   ],
   "source": [
    "dataset = \"cv\"\n",
    "query = pd.read_csv(dataset + \".csv\")\n",
    "# Cleaning titles, might need to add more pre-processing for dirtier data sets.\n",
    "query['title'] = query['title'].map(lambda a: fix_encoding(a))\n",
    "query['title'] = query['title'].map(lambda a: a.replace(\"’\", \"'\").replace(\"‘\", \"'\"))\n",
    "for index, article in query.iterrows():\n",
    "    # Fixing encoding issues.\n",
    "    title = fix_encoding(query.loc[index,'title'])\n",
    "    full_text = fix_encoding(query.loc[index,'full_text'])\n",
    "    # Fixing some additional characters that cause issues in display.\n",
    "    title = title.replace(\"’\", \"'\").replace(\"‘\", \"'\").replace(\"–\",\"-\").replace(\" \",\" \").replace(\"—\",\"-\").replace(\"&amp\",\"and\") \n",
    "    full_text = full_text.replace(\"’\", \"'\").replace(\"‘\", \"'\").replace(\"–\",\"-\").replace(\" \",\" \").replace(\"—\",\"-\").replace(\"&amp\",\"and\") \n",
    "    # News specific stufff\n",
    "    query.loc[index,'title'] = title.replace(\"- \" + query.loc[index,'publication'],\"\").replace(\"- The New York Times\",\"\").replace(\"| TheHill\",\"\")\n",
    "\n",
    "print(\"Embedding...\")\n",
    "corpus_embeddings = bert_model.encode(query['title'] + \"\\n\" + query['full_text'], convert_to_tensor=True).cpu()\n",
    "print(\"Converting to np...\")\n",
    "main_array = corpus_embeddings.numpy()\n",
    "print(\"Converting to list...\")\n",
    "query['embed'] = list(main_array)\n",
    "query.to_csv(dataset + \"_final.csv\", index=False)    "
   ]
  },
  {
   "cell_type": "code",
   "execution_count": null,
   "metadata": {},
   "outputs": [],
   "source": []
  },
  {
   "cell_type": "code",
   "execution_count": null,
   "metadata": {},
   "outputs": [],
   "source": []
  }
 ],
 "metadata": {
  "kernelspec": {
   "display_name": "Python 3",
   "language": "python",
   "name": "python3"
  },
  "language_info": {
   "codemirror_mode": {
    "name": "ipython",
    "version": 3
   },
   "file_extension": ".py",
   "mimetype": "text/x-python",
   "name": "python",
   "nbconvert_exporter": "python",
   "pygments_lexer": "ipython3",
   "version": "3.8.8"
  }
 },
 "nbformat": 4,
 "nbformat_minor": 4
}
